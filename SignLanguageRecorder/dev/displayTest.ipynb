{
 "cells": [
  {
   "cell_type": "code",
   "execution_count": 62,
   "metadata": {},
   "outputs": [],
   "source": [
    "import pickle\n",
    "import numpy as np\n",
    "\n",
    "with open(\"../data/data_00.pkl\", \"rb\") as file:\n",
    "    data = pickle.load(file)"
   ]
  },
  {
   "cell_type": "code",
   "execution_count": 63,
   "metadata": {},
   "outputs": [
    {
     "name": "stdout",
     "output_type": "stream",
     "text": [
      "Left Data: 31 --- Right Data: 40\n",
      "Left Data: 30 --- Right Data: 40\n",
      "Left Data: 30 --- Right Data: 41\n",
      "Left Data: 31 --- Right Data: 41\n",
      "Left Data: 31 --- Right Data: 40\n",
      "Left Data: 31 --- Right Data: 40\n",
      "Left Data: 31 --- Right Data: 40\n",
      "Left Data: 30 --- Right Data: 40\n",
      "Left Data: 31 --- Right Data: 40\n",
      "Left Data: 31 --- Right Data: 41\n",
      "Left Data: 31 --- Right Data: 41\n",
      "Left Data: 30 --- Right Data: 40\n",
      "Left Data: 31 --- Right Data: 40\n",
      "Left Data: 30 --- Right Data: 41\n",
      "Left Data: 31 --- Right Data: 40\n",
      "Left Data: 0 --- Right Data: 40\n",
      "Left Data: 0 --- Right Data: 40\n",
      "Left Data: 0 --- Right Data: 41\n",
      "Left Data: 0 --- Right Data: 40\n",
      "Left Data: 0 --- Right Data: 40\n",
      "Left Data: 0 --- Right Data: 41\n",
      "Left Data: 0 --- Right Data: 41\n",
      "Left Data: 0 --- Right Data: 40\n",
      "Left Data: 0 --- Right Data: 40\n",
      "Left Data: 0 --- Right Data: 41\n",
      "Left Data: 0 --- Right Data: 40\n"
     ]
    }
   ],
   "source": [
    "for d in data:\n",
    "    d_hands = np.array(d['handData'])[:,0]\n",
    "    left_count = np.sum(d_hands == 0)\n",
    "    right_count = np.sum(d_hands == 1)\n",
    "    print(f\"Left Data: {left_count} --- Right Data: {right_count}\")"
   ]
  },
  {
   "cell_type": "code",
   "execution_count": null,
   "metadata": {},
   "outputs": [],
   "source": []
  }
 ],
 "metadata": {
  "kernelspec": {
   "display_name": "GFYP",
   "language": "python",
   "name": "python3"
  },
  "language_info": {
   "codemirror_mode": {
    "name": "ipython",
    "version": 3
   },
   "file_extension": ".py",
   "mimetype": "text/x-python",
   "name": "python",
   "nbconvert_exporter": "python",
   "pygments_lexer": "ipython3",
   "version": "3.12.7"
  }
 },
 "nbformat": 4,
 "nbformat_minor": 2
}
